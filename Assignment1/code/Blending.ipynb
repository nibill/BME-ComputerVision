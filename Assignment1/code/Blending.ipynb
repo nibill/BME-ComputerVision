{
 "cells": [
  {
   "cell_type": "markdown",
   "metadata": {},
   "source": [
    "# Assignment 1 - Blending\n",
    "\n",
    "Name: <br>\n",
    "Matriculation number:"
   ]
  },
  {
   "cell_type": "code",
   "execution_count": null,
   "metadata": {},
   "outputs": [],
   "source": [
    "from numpy import *\n",
    "from PIL import Image\n",
    "import matplotlib.pyplot as plt\n",
    "from skimage.transform import resize\n",
    "from scipy import sparse\n",
    "from hessian_matrix import hessian_matrix"
   ]
  },
  {
   "cell_type": "code",
   "execution_count": null,
   "metadata": {},
   "outputs": [],
   "source": [
    "b = array(Image.open('monalisa.png')) / 256\n",
    "f = array(Image.open('putin.jpg')) / 256\n",
    "\n",
    "# head location of Mona and Putin\n",
    "m = [83, 45, 166, 139]\n",
    "p = [285, 1, 585, 307]\n",
    "\n",
    "# align foreground\n",
    "f2 = zeros((256, 256, 3))\n",
    "tmp = resize(f[p[1]:p[3], p[0]:p[2], :], (m[3] - m[1], m[2] - m[0]))\n",
    "f2[m[1]:m[3], m[0]:m[2], :] = tmp\n",
    "\n",
    "plt.figure()\n",
    "plt.subplot(1, 2, 1)\n",
    "plt.imshow(b)\n",
    "plt.title('Background')\n",
    "plt.subplot(1, 2, 2)\n",
    "plt.imshow(f2)\n",
    "plt.title('Foreground')"
   ]
  },
  {
   "cell_type": "code",
   "execution_count": null,
   "metadata": {},
   "outputs": [],
   "source": [
    "# apply mask\n",
    "c = [118, 106]\n",
    "r = 23\n",
    "bb = [96, 76, 141, 109]\n",
    "x, y = meshgrid(arange(256), arange(256))\n",
    "omega = ((x - c[0]) ** 2 + (y - c[1]) ** 2) < r ** 2      \n",
    "omega[bb[1]:bb[3], bb[0]:bb[2]] = True\n",
    "\n",
    "plt.figure()\n",
    "plt.imshow(omega)\n",
    "plt.title('Mask')"
   ]
  },
  {
   "cell_type": "markdown",
   "metadata": {},
   "source": [
    "## (a) Gradient Descent"
   ]
  },
  {
   "cell_type": "code",
   "execution_count": null,
   "metadata": {},
   "outputs": [],
   "source": [
    "def GD(f, b, omega, lmbda):\n",
    "    \"\"\"\n",
    "    b: backgound color image of size (M, N, 3)\n",
    "    f: foreground color image of size (M, N, 3)\n",
    "    omega: foreground mask of size (M, N)\n",
    "    lmbda: parameter\n",
    "\n",
    "    :returns u: blended image of size (M, N, 3)\n",
    "    \"\"\"\n",
    "    return b"
   ]
  },
  {
   "cell_type": "code",
   "execution_count": null,
   "metadata": {},
   "outputs": [],
   "source": [
    "# blend\n",
    "lmbda = 1  # change\n",
    "u = GD(f2, b, omega, lmbda)\n",
    "\n",
    "# display\n",
    "plt.figure()\n",
    "plt.subplot(1, 2, 1)\n",
    "plt.imshow(b)\n",
    "plt.subplot(1, 2, 2)\n",
    "plt.imshow(f2)\n",
    "\n",
    "plt.figure()\n",
    "plt.subplot(1, 2, 1)\n",
    "plt.imshow(expand_dims(omega, 2) * f2 + expand_dims(1 - omega, 2) * b)\n",
    "plt.subplot(1, 2, 2)\n",
    "plt.imshow(u)"
   ]
  },
  {
   "cell_type": "markdown",
   "metadata": {},
   "source": [
    "## (b) Linearization + Gauss-Seidel"
   ]
  },
  {
   "cell_type": "code",
   "execution_count": null,
   "metadata": {},
   "outputs": [],
   "source": [
    "def gauss_seidel(A, b):\n",
    "    x = zeros((n, 1))\n",
    "    return x"
   ]
  },
  {
   "cell_type": "code",
   "execution_count": null,
   "metadata": {},
   "outputs": [],
   "source": [
    "def LGS(f, b, omega, lmbda):\n",
    "    \"\"\"          \n",
    "    b: backgound color image of size (M, N, 3)\n",
    "    f: foreground color image of size (M, N, 3)\n",
    "    omega: foreground mask of size (M, N)\n",
    "    lmbda: parameter\n",
    "\n",
    "    :returns u: blended image of size (M, N, 3)\n",
    "    \"\"\"\n",
    "    return b"
   ]
  },
  {
   "cell_type": "code",
   "execution_count": null,
   "metadata": {},
   "outputs": [],
   "source": [
    "# blend\n",
    "lmbda = 1  # change \n",
    "u = LGS(f2, b, omega, lmbda)\n",
    "\n",
    "# display\n",
    "plt.figure()\n",
    "plt.subplot(1, 2, 1)\n",
    "plt.imshow(b)\n",
    "plt.subplot(1, 2, 2)\n",
    "plt.imshow(f2)\n",
    "\n",
    "plt.figure()\n",
    "plt.subplot(1, 2, 1)\n",
    "plt.imshow(expand_dims(omega, 2) * f2 + expand_dims(1 - omega, 2) * b)\n",
    "plt.subplot(1, 2, 2)\n",
    "plt.imshow(u)"
   ]
  },
  {
   "cell_type": "markdown",
   "metadata": {},
   "source": [
    "## (c) Linearization + SOR"
   ]
  },
  {
   "cell_type": "code",
   "execution_count": null,
   "metadata": {},
   "outputs": [],
   "source": [
    "def LSOR(f, b, omega, lmbda):\n",
    "    \"\"\"         \n",
    "    b: backgound color image of size (M, N, 3)\n",
    "    f: foreground color image of size (M, N, 3)\n",
    "    omega: foreground mask of size (M, N)\n",
    "    lmbda: parameter\n",
    "\n",
    "    :returns u: blended image of size (M, N, 3)\n",
    "    \"\"\"\n",
    "    return b"
   ]
  },
  {
   "cell_type": "code",
   "execution_count": null,
   "metadata": {},
   "outputs": [],
   "source": [
    "# blend\n",
    "lmbda = 1  # change \n",
    "u = LSOR(f2, b, omega, lmbda)\n",
    "\n",
    "# display\n",
    "plt.figure()\n",
    "plt.subplot(1, 2, 1)\n",
    "plt.imshow(b)\n",
    "plt.subplot(1, 2, 2)\n",
    "plt.imshow(f2)\n",
    "\n",
    "plt.figure()\n",
    "plt.subplot(1, 2, 1)\n",
    "plt.imshow(expand_dims(omega, 2) * f2 + expand_dims(1 - omega, 2) * b)\n",
    "plt.subplot(1, 2, 2)\n",
    "plt.imshow(u)"
   ]
  }
 ],
 "metadata": {
  "kernelspec": {
   "display_name": "Python 3",
   "language": "python",
   "name": "python3"
  },
  "language_info": {
   "codemirror_mode": {
    "name": "ipython",
    "version": 3
   },
   "file_extension": ".py",
   "mimetype": "text/x-python",
   "name": "python",
   "nbconvert_exporter": "python",
   "pygments_lexer": "ipython3",
   "version": "3.6.8"
  }
 },
 "nbformat": 4,
 "nbformat_minor": 2
}
